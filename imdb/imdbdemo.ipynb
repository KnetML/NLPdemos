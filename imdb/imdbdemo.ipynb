{
 "cells": [
  {
   "cell_type": "markdown",
   "metadata": {},
   "source": [
    "# IMDB Demo"
   ]
  },
  {
   "cell_type": "code",
   "execution_count": 10,
   "metadata": {},
   "outputs": [
    {
     "data": {
      "text/plain": [
       "Array{Float32,N} where N"
      ]
     },
     "execution_count": 10,
     "metadata": {},
     "output_type": "execute_result"
    }
   ],
   "source": [
    "include(\"imdb.jl\")\n",
    "using Knet,WordTokenizers\n",
    "BATCHSIZE=64\n",
    "SEED=1311194\n",
    "MAXLEN=150 #maximum size of the word sequence\n",
    "MAXFEATURES=30000 #vocabulary size\n",
    "atype = gpu()<0 ? Array{Float32}:KnetArray{Float32}"
   ]
  },
  {
   "cell_type": "code",
   "execution_count": 12,
   "metadata": {},
   "outputs": [
    {
     "data": {
      "text/plain": [
       "88584-element Array{String,1}:\n",
       " \"the\"        \n",
       " \"and\"        \n",
       " \"a\"          \n",
       " \"of\"         \n",
       " \"to\"         \n",
       " \"is\"         \n",
       " \"br\"         \n",
       " \"in\"         \n",
       " \"it\"         \n",
       " \"i\"          \n",
       " \"this\"       \n",
       " \"that\"       \n",
       " \"was\"        \n",
       " ⋮            \n",
       " \"airsoft\"    \n",
       " \"urrrghhh\"   \n",
       " \"ev\"         \n",
       " \"chicatillo\" \n",
       " \"transacting\"\n",
       " \"sics\"       \n",
       " \"wheelers\"   \n",
       " \"pipe's\"     \n",
       " \"copywrite\"  \n",
       " \"artbox\"     \n",
       " \"voorhees'\"  \n",
       " \"'l'\"        "
      ]
     },
     "execution_count": 12,
     "metadata": {},
     "output_type": "execute_result"
    }
   ],
   "source": [
    "(xtrn,ytrn,xtst,ytst,imdbdict)=imdb(maxlen=MAXLEN,maxval=MAXFEATURES,seed=SEED)\n",
    "imdbarray = invert(imdbdict)"
   ]
  },
  {
   "cell_type": "code",
   "execution_count": 13,
   "metadata": {},
   "outputs": [
    {
     "name": "stdout",
     "output_type": "stream",
     "text": [
      "Sample review:\n",
      "reilly reilly reilly reilly reilly reilly reilly 5hrs to start with i have to point out the fact that you're gonna feel completely lost for more than half an hour yeah some things happen but you don't know why or what for when you finally figure things out you just realize that it's nothing but a twisted spastic opera dealing with mature prostitutes dead mothers illegitimate sons the characters are rather poor and the actors specially the young ones don't help that much to spastic look credible only marisa spastic stands out but she's a superb actress no matter if the movie is pure rubbish br br the only positive things to say about spastic sol de spastic is that spastic pablo spastic seems to have good intentions and he's filmed a couple of scenes that are quite intense well maybe the next time br br my rate 4 10\n",
      "\n",
      "Classification: 1\n"
     ]
    }
   ],
   "source": [
    "rnd = rand(1:length(xtrn))\n",
    "println(\"Sample review:\\n\",join(imdbarray[xtrn[rnd]],\" \"),\"\\n\")\n",
    "println(\"Classification: \",join(ytrn[rnd]))"
   ]
  },
  {
   "cell_type": "code",
   "execution_count": 4,
   "metadata": {},
   "outputs": [
    {
     "name": "stderr",
     "output_type": "stream",
     "text": [
      "\u001b[1m\u001b[36mINFO: \u001b[39m\u001b[22m\u001b[36mLoading IMDB...\n",
      "\u001b[39m  % Total    % Received % Xferd  Average Speed   Time    Time     Time  Current\n",
      "                                 Dload  Upload   Total   Spent    Left  Speed\n",
      " 75 14.6M   75 11.1M    0     0  1579k      0  0:00:09  0:00:07  0:00:02 2028k"
     ]
    },
    {
     "data": {
      "text/plain": [
       "((Float32[0.0568302]\n",
       "\n",
       "Float32[-0.0575665]\n",
       "\n",
       "Float32[0.00153457]\n",
       "\n",
       "...\n",
       "\n",
       "Float32[0.0121047]\n",
       "\n",
       "Float32[0.0185812]\n",
       "\n",
       "Float32[0.0225038], Float32[0.00572032 0.00885967 … -0.0121872 -0.00279316; -0.0130193 -0.00620011 … -0.00328332 0.000816555; … ; -0.00441956 -0.00785721 … -0.000621977 -0.000765511; 0.000269642 -0.00722035 … -0.00257939 0.00205344], Float32[0.149794 -0.149855 … -0.0685552 -0.187412; -0.113529 0.100171 … 0.184712 0.0283851]), Knet.RNN(125, 100, 1, 0.0, 0, 0, 2, 0, Float32, nothing, nothing, nothing, nothing, nothing))"
      ]
     },
     "execution_count": 4,
     "metadata": {},
     "output_type": "execute_result"
    }
   ],
   "source": [
    "weights,rnnSpec = loadmodel()"
   ]
  },
  {
   "cell_type": "code",
   "execution_count": 5,
   "metadata": {},
   "outputs": [
    {
     "name": "stderr",
     "output_type": "stream",
     "text": [
      "\r",
      " 99 14.6M   99 14.6M    0     0  1839k      0  0:00:08  0:00:08 --:--:-- 2534k\r",
      "100 14.6M  100 14.6M    0     0  1843k      0  0:00:08  0:00:08 --:--:-- 2806k\n"
     ]
    }
   ],
   "source": [
    "if !(typeof(first(weights)) <: atype)\n",
    "    weights= map(atype,weights)\n",
    "end"
   ]
  },
  {
   "cell_type": "code",
   "execution_count": 6,
   "metadata": {},
   "outputs": [
    {
     "name": "stdout",
     "output_type": "stream",
     "text": [
      "stdin> I do not like\n"
     ]
    },
    {
     "data": {
      "text/plain": [
       "4-element Array{Int32,1}:\n",
       " 10\n",
       " 78\n",
       " 21\n",
       " 37"
      ]
     },
     "execution_count": 6,
     "metadata": {},
     "output_type": "execute_result"
    }
   ],
   "source": [
    "userinput = readline(STDIN)\n",
    "words = tokenize(lowercase(userinput))\n",
    "ex = [get!(imdbdict,wr,length(imdbdict)) for wr in words]"
   ]
  },
  {
   "cell_type": "code",
   "execution_count": 8,
   "metadata": {},
   "outputs": [
    {
     "data": {
      "text/plain": [
       "1"
      ]
     },
     "execution_count": 8,
     "metadata": {},
     "output_type": "execute_result"
    }
   ],
   "source": [
    "y = predict(weights,[ex],rnnSpec;train=false)\n",
    "category = indmax(Array(y))"
   ]
  }
 ],
 "metadata": {
  "kernelspec": {
   "display_name": "Julia 0.6.4",
   "language": "julia",
   "name": "julia-0.6"
  },
  "language_info": {
   "file_extension": ".jl",
   "mimetype": "application/julia",
   "name": "julia",
   "version": "0.6.4"
  }
 },
 "nbformat": 4,
 "nbformat_minor": 2
}
