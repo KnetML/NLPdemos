{
 "cells": [
  {
   "cell_type": "markdown",
   "metadata": {},
   "source": [
    "# IMDB Demo"
   ]
  },
  {
   "cell_type": "code",
   "execution_count": 14,
   "metadata": {},
   "outputs": [
    {
     "data": {
      "text/plain": [
       "Knet.KnetArray{Float32,N} where N"
      ]
     },
     "execution_count": 14,
     "metadata": {},
     "output_type": "execute_result"
    }
   ],
   "source": [
    "using Knet,WordTokenizers\n",
    "BATCHSIZE=64\n",
    "SEED=1311194\n",
    "MAXLEN=150 #maximum size of the word sequence\n",
    "MAXFEATURES=30000 #vocabulary size\n",
    "gpu(0)\n",
    "atype = gpu()<0 ? Array{Float32}:KnetArray{Float32}"
   ]
  },
  {
   "cell_type": "code",
   "execution_count": 2,
   "metadata": {},
   "outputs": [
    {
     "data": {
      "text/plain": [
       "loadmodel (generic function with 3 methods)"
      ]
     },
     "execution_count": 2,
     "metadata": {},
     "output_type": "execute_result"
    }
   ],
   "source": [
    "function loadmodel(url=\"ai.ku.edu.tr/models/model_imdb.jld\",localfile=\"model_imdb.jld\")\n",
    "    !isfile(localfile) && download(url,localfile)\n",
    "    d = load(localfile)\n",
    "    weights = d[\"weights\"];rnnSpec=d[\"rnnSpec\"];\n",
    "    return weights,rnnSpec\n",
    "end"
   ]
  },
  {
   "cell_type": "code",
   "execution_count": 3,
   "metadata": {},
   "outputs": [
    {
     "data": {
      "text/plain": [
       "predict (generic function with 1 method)"
      ]
     },
     "execution_count": 3,
     "metadata": {},
     "output_type": "execute_result"
    }
   ],
   "source": [
    "function predict(weights, inputs, rnnSpec;train=false)\n",
    "    rnnWeights, inputMatrix, outputMatrix = weights # (1,1,W), (X,V), (2,H)\n",
    "    indices = hcat(inputs...)' # (B,T)\n",
    "    rnnInput = inputMatrix[:,indices] # (X,B,T)\n",
    "    rnnOutput = rnnforw(rnnSpec, rnnWeights, rnnInput)[1] # (H,B,T)\n",
    "    return outputMatrix * rnnOutput[:,:,end] # (2,H) * (H,B) = (2,B)\n",
    "end"
   ]
  },
  {
   "cell_type": "code",
   "execution_count": 6,
   "metadata": {},
   "outputs": [
    {
     "name": "stderr",
     "output_type": "stream",
     "text": [
      "\u001b[1m\u001b[36mINFO: \u001b[39m\u001b[22m\u001b[36mLoading IMDB...\n",
      "\u001b[39m"
     ]
    },
    {
     "name": "stdout",
     "output_type": "stream",
     "text": [
      " 15.714042 seconds (16.02 M allocations: 810.981 MiB, 4.61% gc time)\n",
      "25000-element Array{Array{Int32,1},1}\n",
      "25000-element Array{Int8,1}\n",
      "25000-element Array{Array{Int32,1},1}\n",
      "25000-element Array{Int8,1}\n"
     ]
    }
   ],
   "source": [
    "include(\"imdb.jl\")\n",
    "@time (xtrn,ytrn,xtst,ytst,imdbdict)=imdb(maxlen=MAXLEN,maxval=MAXFEATURES,seed=SEED)\n",
    "for d in (xtrn,ytrn,xtst,ytst); println(summary(d)); end\n",
    "imdbarray = Array{String}(88584)\n",
    "for (k,v) in imdbdict; imdbarray[v]=k; end"
   ]
  },
  {
   "cell_type": "code",
   "execution_count": 7,
   "metadata": {},
   "outputs": [
    {
     "name": "stdout",
     "output_type": "stream",
     "text": [
      "Sample review:\n",
      "reilly reilly reilly reilly reilly reilly reilly 5hrs to start with i have to point out the fact that you're gonna feel completely lost for more than half an hour yeah some things happen but you don't know why or what for when you finally figure things out you just realize that it's nothing but a twisted spastic opera dealing with mature prostitutes dead mothers illegitimate sons the characters are rather poor and the actors specially the young ones don't help that much to spastic look credible only marisa spastic stands out but she's a superb actress no matter if the movie is pure rubbish br br the only positive things to say about spastic sol de spastic is that spastic pablo spastic seems to have good intentions and he's filmed a couple of scenes that are quite intense well maybe the next time br br my rate 4 10\n",
      "\n",
      "Classification: 1\n"
     ]
    }
   ],
   "source": [
    "rnd = rand(1:length(xtrn))\n",
    "println(\"Sample review:\\n\",join(imdbarray[xtrn[rnd]],\" \"),\"\\n\")\n",
    "println(\"Classification: \",join(ytrn[rnd]))"
   ]
  },
  {
   "cell_type": "code",
   "execution_count": 17,
   "metadata": {},
   "outputs": [
    {
     "data": {
      "text/plain": [
       "((Knet.KnetArray{Float32,3}(Knet.KnetPtr(Ptr{Void} @0x000001040f4a6e00, 363200, 0, nothing), (1, 1, 90800)), Knet.KnetArray{Float32,2}(Knet.KnetPtr(Ptr{Void} @0x0000010410c00000, 15000000, 0, nothing), (125, 30000)), Knet.KnetArray{Float32,2}(Knet.KnetPtr(Ptr{Void} @0x000001040f600a00, 800, 0, nothing), (2, 100))), Knet.RNN(125, 100, 1, 0.0, 0, 0, 2, 0, Float32, Knet.RD(Ptr{Void} @0x00007fab7f745990), Knet.DD(Ptr{Void} @0x00007fab7f0066d0, Knet.KnetArray{UInt8,1}(Knet.KnetPtr(Ptr{Void} @0x000001040fc93e00, 1474560, 0, nothing), (1474560,))), nothing, nothing, nothing))"
      ]
     },
     "execution_count": 17,
     "metadata": {},
     "output_type": "execute_result"
    }
   ],
   "source": [
    "weights,rnnSpec = loadmodel()"
   ]
  },
  {
   "cell_type": "code",
   "execution_count": 18,
   "metadata": {},
   "outputs": [],
   "source": [
    "if !(typeof(first(weights)) <: atype)\n",
    "    weights= map(atype,weights)\n",
    "end"
   ]
  },
  {
   "cell_type": "code",
   "execution_count": 19,
   "metadata": {},
   "outputs": [
    {
     "name": "stderr",
     "output_type": "stream",
     "text": [
      "\u001b[1m\u001b[36mINFO: \u001b[39m\u001b[22m\u001b[36mTesting...\n",
      "\u001b[39m"
     ]
    },
    {
     "name": "stdout",
     "output_type": "stream",
     "text": [
      "  4.388864 seconds (102.95 k allocations: 36.532 MiB, 0.66% gc time)\n"
     ]
    },
    {
     "data": {
      "text/plain": [
       "0.8670272435897436"
      ]
     },
     "execution_count": 19,
     "metadata": {},
     "output_type": "execute_result"
    }
   ],
   "source": [
    "info(\"Testing...\")\n",
    "@time accuracy(weights, minibatch(xtst,ytst,BATCHSIZE), (w,x)->predict(w,x,rnnSpec))"
   ]
  },
  {
   "cell_type": "code",
   "execution_count": 20,
   "metadata": {},
   "outputs": [
    {
     "name": "stdout",
     "output_type": "stream",
     "text": [
      "STDIN> it was such a bad movie\n"
     ]
    },
    {
     "data": {
      "text/plain": [
       "6-element Array{Int32,1}:\n",
       "   9\n",
       "  13\n",
       " 138\n",
       "   3\n",
       "  75\n",
       "  17"
      ]
     },
     "execution_count": 20,
     "metadata": {},
     "output_type": "execute_result"
    }
   ],
   "source": [
    "userinput = readline(STDIN)\n",
    "words = tokenize(lowercase(userinput))\n",
    "ex = [get!(imdbdict,wr,length(imdbdict)) for wr in words]"
   ]
  },
  {
   "cell_type": "code",
   "execution_count": 21,
   "metadata": {},
   "outputs": [
    {
     "data": {
      "text/plain": [
       "1"
      ]
     },
     "execution_count": 21,
     "metadata": {},
     "output_type": "execute_result"
    }
   ],
   "source": [
    "y = predict(weights,[ex],rnnSpec;train=false)\n",
    "category = indmax(Array(y))"
   ]
  }
 ],
 "metadata": {
  "kernelspec": {
   "display_name": "Julia 0.6.4",
   "language": "julia",
   "name": "julia-0.6"
  },
  "language_info": {
   "file_extension": ".jl",
   "mimetype": "application/julia",
   "name": "julia",
   "version": "0.6.4"
  }
 },
 "nbformat": 4,
 "nbformat_minor": 2
}
