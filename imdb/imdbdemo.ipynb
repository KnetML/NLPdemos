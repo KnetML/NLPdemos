{
 "cells": [
  {
   "cell_type": "markdown",
   "metadata": {},
   "source": [
    "# IMDB Demo"
   ]
  },
  {
   "cell_type": "markdown",
   "metadata": {},
   "source": [
    "## Setup\n",
    "1-Adds required packages to Julia.   \n",
    "2-Loads the data and a pretrained model."
   ]
  },
  {
   "cell_type": "code",
   "execution_count": 1,
   "metadata": {},
   "outputs": [
    {
     "name": "stderr",
     "output_type": "stream",
     "text": [
      "\u001b[1m\u001b[36mINFO: \u001b[39m\u001b[22m\u001b[36mLoading IMDB...\n",
      "\u001b[39m\u001b[1m\u001b[36mINFO: \u001b[39m\u001b[22m\u001b[36mLoading model\n",
      "\u001b[39m"
     ]
    }
   ],
   "source": [
    "include(\"imdb.jl\")"
   ]
  },
  {
   "cell_type": "markdown",
   "metadata": {},
   "source": [
    "## Sample Data\n",
    "The model was trained using 25000 movie reviews such as the following (shift-ENTER to see random example)   \n",
    "Each review was tokenized, lowercased, truncated to max 150 words and a 30,000 word vocabulary.   "
   ]
  },
  {
   "cell_type": "code",
   "execution_count": 2,
   "metadata": {
    "scrolled": true
   },
   "outputs": [
    {
     "name": "stdout",
     "output_type": "stream",
     "text": [
      "Positive review:\n",
      "<s> i believe this is the most powerful film hbo pictures has made to date this film should have been released in theaters for the public to view on the big screen it is available on video so make sure you look for it and check it out chris <unk> did a great job with the direction and the screenplay the performances from stephen rea donald sutherland and jeffery demunn are flawless a masterpiece of the genre\n"
     ]
    }
   ],
   "source": [
    "r = rand(1:length(xtrn))\n",
    "println(reviewstring(xtrn[r],ytrn[r]))\n",
    "flush(STDOUT)"
   ]
  },
  {
   "cell_type": "markdown",
   "metadata": {},
   "source": [
    "## Test\n",
    "We test the model on 25000 never before seen reviews on the test set (shift-ENTER to see random example)   \n",
    "The test accuracy is around 86%   "
   ]
  },
  {
   "cell_type": "code",
   "execution_count": 3,
   "metadata": {},
   "outputs": [
    {
     "name": "stdout",
     "output_type": "stream",
     "text": [
      "Negative review:\n",
      "downright pain awful at worst when someone says look its a plane no its a bird no its a frog yes you read that right i just wanted to burst into tears there and then actually i wanted to walk out by remained compelled to see whether it could get any lower than that point this happens near the end so it doesn't thankfully br br overall underdog becomes the worst movie of 2008 at this early period and is actually just as bad as last years epic movie luckily for underdog meet the spartans arrives over here soon and i expect that to be even worse so in case you didn't get the point of my review avoid the film at all costs if you want to see a movie with a dog then watch cats and dogs buy a real dog if necessary just do not see this\n",
      "\n",
      "Model prediction: Negative\n"
     ]
    }
   ],
   "source": [
    "r = rand(1:length(xtst))\n",
    "println(reviewstring(xtst[r],ytst[r]))\n",
    "println(\"\\nModel prediction: \"*predictstring(xtst[r]))\n",
    "flush(STDOUT)"
   ]
  },
  {
   "cell_type": "markdown",
   "metadata": {},
   "source": [
    "## User Input\n",
    "In this cell you can enter your own review and let the model guess the sentiment"
   ]
  },
  {
   "cell_type": "code",
   "execution_count": 18,
   "metadata": {},
   "outputs": [
    {
     "name": "stdout",
     "output_type": "stream",
     "text": [
      "stdin> This is pretty bad movie\n",
      "\n",
      "Model prediction: Negative\n"
     ]
    }
   ],
   "source": [
    "userinput = readline(STDIN)\n",
    "words = split(lowercase(userinput))\n",
    "ex = [get!(imdbdict,wr,UNK) for wr in words]\n",
    "ex[ex.>MAXFEATURES]=UNK\n",
    "println(\"\\nModel prediction: \"*predictstring(ex))"
   ]
  },
  {
   "cell_type": "code",
   "execution_count": null,
   "metadata": {},
   "outputs": [],
   "source": []
  }
 ],
 "metadata": {
  "kernelspec": {
   "display_name": "Julia 0.6.4",
   "language": "julia",
   "name": "julia-0.6"
  },
  "language_info": {
   "file_extension": ".jl",
   "mimetype": "application/julia",
   "name": "julia",
   "version": "0.6.4"
  }
 },
 "nbformat": 4,
 "nbformat_minor": 2
}
