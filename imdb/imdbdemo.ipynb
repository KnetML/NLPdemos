{
 "cells": [
  {
   "cell_type": "markdown",
   "metadata": {},
   "source": [
    "# IMDB Demo"
   ]
  },
  {
   "cell_type": "code",
   "execution_count": null,
   "metadata": {},
   "outputs": [],
   "source": [
    "include(\"imdb.jl\")"
   ]
  },
  {
   "cell_type": "code",
   "execution_count": null,
   "metadata": {
    "scrolled": true
   },
   "outputs": [],
   "source": [
    "# The model was trained using 25000 movie reviews such as the following (shift-ENTER to see random example)\n",
    "# Each review was tokenized, lowercased, truncated to max 150 words and a 30,000 word vocabulary.\n",
    "r = rand(1:length(xtrn))\n",
    "println(reviewstring(xtrn[r],ytrn[r]))\n",
    "flush(STDOUT)"
   ]
  },
  {
   "cell_type": "code",
   "execution_count": null,
   "metadata": {},
   "outputs": [],
   "source": [
    "# We test the model on 25000 never before seen reviews on the test set (shift-ENTER to see random example)\n",
    "# The test accuracy is around 86%\n",
    "r = rand(1:length(xtst))\n",
    "println(reviewstring(xtst[r],ytst[r]))\n",
    "println(\"\\nModel prediction: \"*predictstring(xtst[r]))\n",
    "flush(STDOUT)"
   ]
  },
  {
   "cell_type": "code",
   "execution_count": null,
   "metadata": {},
   "outputs": [],
   "source": [
    "# In this cell you can enter your own review and let the model guess the sentiment\n",
    "userinput = readline(STDIN)\n",
    "words = tokenize(lowercase(userinput))\n",
    "ex = [get!(imdbdict,wr,UNK) for wr in words]\n",
    "println(\"\\nModel prediction: \"*predictstring(ex))"
   ]
  }
 ],
 "metadata": {
  "kernelspec": {
   "display_name": "Julia 0.6.4",
   "language": "julia",
   "name": "julia-0.6"
  },
  "language_info": {
   "file_extension": ".jl",
   "mimetype": "application/julia",
   "name": "julia",
   "version": "0.6.4"
  }
 },
 "nbformat": 4,
 "nbformat_minor": 2
}
